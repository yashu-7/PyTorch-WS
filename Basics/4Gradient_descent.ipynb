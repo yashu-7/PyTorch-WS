{
 "cells": [
  {
   "cell_type": "code",
   "execution_count": 56,
   "metadata": {},
   "outputs": [],
   "source": [
    "import torch"
   ]
  },
  {
   "cell_type": "code",
   "execution_count": 57,
   "metadata": {},
   "outputs": [],
   "source": [
    "x = torch.tensor([1,2,3,4])\n",
    "y = torch.tensor([1.5,3,4.5,6])"
   ]
  },
  {
   "cell_type": "code",
   "execution_count": 58,
   "metadata": {},
   "outputs": [],
   "source": [
    "w = torch.tensor(0.0,requires_grad=True)"
   ]
  },
  {
   "cell_type": "code",
   "execution_count": 59,
   "metadata": {},
   "outputs": [],
   "source": [
    "def forward(x):\n",
    "    return w * x"
   ]
  },
  {
   "cell_type": "code",
   "execution_count": 60,
   "metadata": {},
   "outputs": [],
   "source": [
    "def loss(y, y_pred):\n",
    "    return ((y_pred-y)**2).mean()"
   ]
  },
  {
   "cell_type": "code",
   "execution_count": 61,
   "metadata": {},
   "outputs": [
    {
     "name": "stdout",
     "output_type": "stream",
     "text": [
      "Prediction beofre training -> 0.0\n"
     ]
    }
   ],
   "source": [
    "print(f\"Prediction beofre training -> {forward(5)}\")"
   ]
  },
  {
   "cell_type": "code",
   "execution_count": 62,
   "metadata": {},
   "outputs": [],
   "source": [
    "learning_rate = 0.01\n",
    "n_iters = 30"
   ]
  },
  {
   "cell_type": "code",
   "execution_count": 63,
   "metadata": {},
   "outputs": [
    {
     "name": "stdout",
     "output_type": "stream",
     "text": [
      "epoch -> 0 weight -> 0.22499999403953552 loss -> 16.875\n",
      "---------------------------------------------------------------------------\n",
      "epoch -> 2 weight -> 0.5788124799728394 loss -> 8.808855056762695\n",
      "---------------------------------------------------------------------------\n",
      "epoch -> 4 weight -> 0.8344420194625854 loss -> 4.598278045654297\n",
      "---------------------------------------------------------------------------\n",
      "epoch -> 6 weight -> 1.0191344022750854 loss -> 2.400329351425171\n",
      "---------------------------------------------------------------------------\n",
      "epoch -> 8 weight -> 1.1525746583938599 loss -> 1.2529869079589844\n",
      "---------------------------------------------------------------------------\n",
      "epoch -> 10 weight -> 1.2489851713180542 loss -> 0.6540669798851013\n",
      "---------------------------------------------------------------------------\n",
      "epoch -> 12 weight -> 1.3186417818069458 loss -> 0.3414268493652344\n",
      "---------------------------------------------------------------------------\n",
      "epoch -> 14 weight -> 1.3689686059951782 loss -> 0.17822709679603577\n",
      "---------------------------------------------------------------------------\n",
      "epoch -> 16 weight -> 1.4053298234939575 loss -> 0.09303565323352814\n",
      "---------------------------------------------------------------------------\n",
      "epoch -> 18 weight -> 1.43160080909729 loss -> 0.04856518656015396\n",
      "---------------------------------------------------------------------------\n",
      "epoch -> 20 weight -> 1.4505815505981445 loss -> 0.025351356714963913\n",
      "---------------------------------------------------------------------------\n",
      "epoch -> 22 weight -> 1.4642951488494873 loss -> 0.013233572244644165\n",
      "---------------------------------------------------------------------------\n",
      "epoch -> 24 weight -> 1.4742032289505005 loss -> 0.0069080195389688015\n",
      "---------------------------------------------------------------------------\n",
      "epoch -> 26 weight -> 1.4813618659973145 loss -> 0.0036060241982340813\n",
      "---------------------------------------------------------------------------\n",
      "epoch -> 28 weight -> 1.4865338802337646 loss -> 0.0018823712598532438\n",
      "---------------------------------------------------------------------------\n",
      "Prediction after training -> 7.4427690505981445\n"
     ]
    }
   ],
   "source": [
    "for epoch in range(n_iters):\n",
    "    y_pred = forward(x)\n",
    "\n",
    "    l = loss(y,y_pred)\n",
    "    \n",
    "    l.backward()\n",
    "\n",
    "    with torch.no_grad():\n",
    "        w -= learning_rate * w.grad\n",
    "    \n",
    "    w.grad.zero_()\n",
    "\n",
    "    if epoch % 2 == 0:\n",
    "        print(f\"epoch -> {epoch} weight -> {w} loss -> {l}\")\n",
    "        print(\"-\" * 75)\n",
    "print(f\"Prediction after training -> {forward(5)}\")"
   ]
  }
 ],
 "metadata": {
  "kernelspec": {
   "display_name": "Python 3",
   "language": "python",
   "name": "python3"
  },
  "language_info": {
   "codemirror_mode": {
    "name": "ipython",
    "version": 3
   },
   "file_extension": ".py",
   "mimetype": "text/x-python",
   "name": "python",
   "nbconvert_exporter": "python",
   "pygments_lexer": "ipython3",
   "version": "3.10.9"
  }
 },
 "nbformat": 4,
 "nbformat_minor": 2
}
