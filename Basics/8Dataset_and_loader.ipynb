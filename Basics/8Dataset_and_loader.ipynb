{
 "cells": [
  {
   "cell_type": "code",
   "execution_count": 30,
   "metadata": {},
   "outputs": [],
   "source": [
    "import torch\n",
    "import torchvision\n",
    "from torch.utils.data import Dataset, DataLoader\n",
    "import numpy as np\n",
    "import math"
   ]
  },
  {
   "cell_type": "code",
   "execution_count": 31,
   "metadata": {},
   "outputs": [],
   "source": [
    "class WineDataset(Dataset):\n",
    "    def __init__(self):\n",
    "        xy = np.loadtxt('data\\\\wine.csv', delimiter=\",\", dtype=np.float32,skiprows=1)\n",
    "        self.x = torch.from_numpy(xy[:, 1:])\n",
    "        self.y = torch.from_numpy(xy[:, [0]])\n",
    "        self.n_samples = xy.shape[0]\n",
    "\n",
    "    def __getitem__(self, index):\n",
    "        return self.x[index], self.y[index]\n",
    "\n",
    "    def __len__(self):\n",
    "        return self.n_samples"
   ]
  },
  {
   "cell_type": "code",
   "execution_count": 32,
   "metadata": {},
   "outputs": [
    {
     "name": "stdout",
     "output_type": "stream",
     "text": [
      "tensor([1.4230e+01, 1.7100e+00, 2.4300e+00, 1.5600e+01, 1.2700e+02, 2.8000e+00,\n",
      "        3.0600e+00, 2.8000e-01, 2.2900e+00, 5.6400e+00, 1.0400e+00, 3.9200e+00,\n",
      "        1.0650e+03]) tensor([1.])\n"
     ]
    }
   ],
   "source": [
    "dataset = WineDataset()\n",
    "first_data = dataset[0]\n",
    "features, labels = first_data\n",
    "print(features,labels)"
   ]
  },
  {
   "cell_type": "code",
   "execution_count": 33,
   "metadata": {},
   "outputs": [],
   "source": [
    "dataloader = DataLoader(dataset=dataset, batch_size=4, shuffle=True)"
   ]
  },
  {
   "cell_type": "code",
   "execution_count": 34,
   "metadata": {},
   "outputs": [],
   "source": [
    "dataiter = iter(dataloader)\n",
    "data = next(dataiter)\n",
    "features, labels = data"
   ]
  },
  {
   "cell_type": "code",
   "execution_count": 35,
   "metadata": {},
   "outputs": [
    {
     "data": {
      "text/plain": [
       "(tensor([1.3710e+01, 1.8600e+00, 2.3600e+00, 1.6600e+01, 1.0100e+02, 2.6100e+00,\n",
       "         2.8800e+00, 2.7000e-01, 1.6900e+00, 3.8000e+00, 1.1100e+00, 4.0000e+00,\n",
       "         1.0350e+03]),\n",
       " tensor([1.]))"
      ]
     },
     "execution_count": 35,
     "metadata": {},
     "output_type": "execute_result"
    }
   ],
   "source": [
    "features[0], labels[0]"
   ]
  },
  {
   "cell_type": "code",
   "execution_count": 36,
   "metadata": {},
   "outputs": [],
   "source": [
    "num_epochs = 2\n",
    "total_samples = len(dataset)\n",
    "n_iterations = math.ceil(total_samples / 4)"
   ]
  },
  {
   "cell_type": "code",
   "execution_count": 37,
   "metadata": {},
   "outputs": [
    {
     "name": "stdout",
     "output_type": "stream",
     "text": [
      "epoch -> 1/2, step -> 1/45, inputs -> torch.Size([4, 13])\n",
      "epoch -> 1/2, step -> 6/45, inputs -> torch.Size([4, 13])\n",
      "epoch -> 1/2, step -> 11/45, inputs -> torch.Size([4, 13])\n",
      "epoch -> 1/2, step -> 16/45, inputs -> torch.Size([4, 13])\n",
      "epoch -> 1/2, step -> 21/45, inputs -> torch.Size([4, 13])\n",
      "epoch -> 1/2, step -> 26/45, inputs -> torch.Size([4, 13])\n",
      "epoch -> 1/2, step -> 31/45, inputs -> torch.Size([4, 13])\n",
      "epoch -> 1/2, step -> 36/45, inputs -> torch.Size([4, 13])\n",
      "epoch -> 1/2, step -> 41/45, inputs -> torch.Size([4, 13])\n",
      "epoch -> 2/2, step -> 1/45, inputs -> torch.Size([4, 13])\n",
      "epoch -> 2/2, step -> 6/45, inputs -> torch.Size([4, 13])\n",
      "epoch -> 2/2, step -> 11/45, inputs -> torch.Size([4, 13])\n",
      "epoch -> 2/2, step -> 16/45, inputs -> torch.Size([4, 13])\n",
      "epoch -> 2/2, step -> 21/45, inputs -> torch.Size([4, 13])\n",
      "epoch -> 2/2, step -> 26/45, inputs -> torch.Size([4, 13])\n",
      "epoch -> 2/2, step -> 31/45, inputs -> torch.Size([4, 13])\n",
      "epoch -> 2/2, step -> 36/45, inputs -> torch.Size([4, 13])\n",
      "epoch -> 2/2, step -> 41/45, inputs -> torch.Size([4, 13])\n"
     ]
    }
   ],
   "source": [
    "for epoch in range(num_epochs):\n",
    "    for i, (inputs, labels) in enumerate(dataloader):\n",
    "        if i % 5 == 0:\n",
    "            print(f\"epoch -> {epoch+1}/{num_epochs}, step -> {i+1}/{n_iterations}, inputs -> {inputs.shape}\")"
   ]
  }
 ],
 "metadata": {
  "kernelspec": {
   "display_name": "Python 3",
   "language": "python",
   "name": "python3"
  },
  "language_info": {
   "codemirror_mode": {
    "name": "ipython",
    "version": 3
   },
   "file_extension": ".py",
   "mimetype": "text/x-python",
   "name": "python",
   "nbconvert_exporter": "python",
   "pygments_lexer": "ipython3",
   "version": "3.10.9"
  }
 },
 "nbformat": 4,
 "nbformat_minor": 2
}
