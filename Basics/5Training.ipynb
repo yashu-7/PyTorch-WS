{
 "cells": [
  {
   "cell_type": "code",
   "execution_count": 1,
   "metadata": {},
   "outputs": [],
   "source": [
    "import torch\n",
    "import torch.nn as nn"
   ]
  },
  {
   "cell_type": "code",
   "execution_count": 2,
   "metadata": {},
   "outputs": [],
   "source": [
    "x = torch.tensor([1,2,3,4],dtype=torch.float32)\n",
    "y = torch.tensor([5,10,15,20],dtype=torch.float32)"
   ]
  },
  {
   "cell_type": "code",
   "execution_count": 3,
   "metadata": {},
   "outputs": [],
   "source": [
    "w = torch.tensor([0], dtype=torch.float32, requires_grad=True)"
   ]
  },
  {
   "cell_type": "code",
   "execution_count": 4,
   "metadata": {},
   "outputs": [],
   "source": [
    "def forward(x):\n",
    "    return w * x"
   ]
  },
  {
   "cell_type": "code",
   "execution_count": 5,
   "metadata": {},
   "outputs": [],
   "source": [
    "learning_rate = 0.01\n",
    "n_iters = 100"
   ]
  },
  {
   "cell_type": "code",
   "execution_count": 6,
   "metadata": {},
   "outputs": [],
   "source": [
    "loss = nn.MSELoss()\n",
    "optimizer = torch.optim.SGD([w], lr=learning_rate)"
   ]
  },
  {
   "cell_type": "code",
   "execution_count": 7,
   "metadata": {},
   "outputs": [
    {
     "name": "stdout",
     "output_type": "stream",
     "text": [
      "Epoch -> 0, Loss -> 187.5, weight -> tensor([0.7500], requires_grad=True)\n",
      "Epoch -> 10, Loss -> 7.267414093017578, weight -> tensor([4.1633], requires_grad=True)\n",
      "Epoch -> 20, Loss -> 0.2816811501979828, weight -> tensor([4.8353], requires_grad=True)\n",
      "Epoch -> 30, Loss -> 0.01091800257563591, weight -> tensor([4.9676], requires_grad=True)\n",
      "Epoch -> 40, Loss -> 0.0004231881466694176, weight -> tensor([4.9936], requires_grad=True)\n",
      "Epoch -> 50, Loss -> 1.6409110685344785e-05, weight -> tensor([4.9987], requires_grad=True)\n",
      "Epoch -> 60, Loss -> 6.345430847431999e-07, weight -> tensor([4.9998], requires_grad=True)\n",
      "Epoch -> 70, Loss -> 2.5008660031744512e-08, weight -> tensor([5.0000], requires_grad=True)\n",
      "Epoch -> 80, Loss -> 9.822542779147625e-10, weight -> tensor([5.0000], requires_grad=True)\n",
      "Epoch -> 90, Loss -> 2.7284841053187847e-11, weight -> tensor([5.0000], requires_grad=True)\n",
      "Final prediction after training -> tensor([25.0000], grad_fn=<MulBackward0>)\n"
     ]
    }
   ],
   "source": [
    "for epoch in range(n_iters):\n",
    "    y_pred = forward(x)\n",
    "\n",
    "    l = loss(y, y_pred)\n",
    "\n",
    "    l.backward()\n",
    "    optimizer.step()\n",
    "    optimizer.zero_grad()\n",
    "\n",
    "    if epoch % 10 == 0:\n",
    "        print(f\"Epoch -> {epoch}, Loss -> {l}, weight -> {w}\")\n",
    "print(f\"Final prediction after training -> {forward(5)}\")"
   ]
  }
 ],
 "metadata": {
  "kernelspec": {
   "display_name": "Python 3",
   "language": "python",
   "name": "python3"
  },
  "language_info": {
   "codemirror_mode": {
    "name": "ipython",
    "version": 3
   },
   "file_extension": ".py",
   "mimetype": "text/x-python",
   "name": "python",
   "nbconvert_exporter": "python",
   "pygments_lexer": "ipython3",
   "version": "3.10.9"
  }
 },
 "nbformat": 4,
 "nbformat_minor": 2
}
